{
 "cells": [
  {
   "cell_type": "code",
   "execution_count": null,
   "metadata": {},
   "outputs": [],
   "source": [
    "from marvin.tools.query import Query\n",
    "from marvin.tools.maps import Maps\n",
    "import numpy as np\n",
    "from sympy import *"
   ]
  },
  {
   "cell_type": "code",
   "execution_count": null,
   "metadata": {},
   "outputs": [],
   "source": [
    "tot = [] #All galaxies\n",
    "agns = [] #AGNs"
   ]
  },
  {
   "cell_type": "code",
   "execution_count": null,
   "metadata": {},
   "outputs": [],
   "source": [
    "def get_masked(maps, emline):\n",
    "    \"\"\"Function to get masked data arrays without bad snr spaxels\n",
    "\n",
    "    Parameters:\n",
    "    maps - Marvin Maps object of the galaxy\n",
    "    emline - String of desired quantity (e.g. 'emline_gflux_ha_6564')\n",
    "\n",
    "    Returns:\n",
    "    Data array with masked values if the spaxel has an snr < 5\n",
    "    \"\"\"    \n",
    "    data_array = maps[emline]\n",
    "    data_array_masked = data_array.masked\n",
    "\n",
    "    #Masks all spaxels that don't reach the cutoff SNR\n",
    "    data_array_masked.mask |= maps.bin_snr.value < 5\n",
    "    \n",
    "    return data_array_masked"
   ]
  },
  {
   "cell_type": "code",
   "execution_count": null,
   "metadata": {},
   "outputs": [],
   "source": [
    "def get_trues(arr):\n",
    "    \"\"\"Function to count the number of True bools in a data array\n",
    "\n",
    "    Parameters:\n",
    "    arr - Data array containing boolean values\n",
    "\n",
    "    Returns:\n",
    "    Number of True values in arr\n",
    "    \"\"\"\n",
    "    counter = 0\n",
    "    for elem in arr.compressed():\n",
    "        if elem:\n",
    "            counter += 1\n",
    "    return counter"
   ]
  },
  {
   "cell_type": "code",
   "execution_count": null,
   "metadata": {},
   "outputs": [],
   "source": [
    "def get_1d_array(arr, arr_bools):\n",
    "    \"\"\"Creates numpy array containing a subset of the values in the data array\n",
    "\n",
    "    Parameters:\n",
    "    arr - Data array\n",
    "    arr_bools - Corresponding array containing bools which specify whether\n",
    "                each value is part of the subset being returned\n",
    "\n",
    "    Returns:\n",
    "    numpy array containing the subset of values\n",
    "    \"\"\"     \n",
    "    lst = []\n",
    "    for i in range(len(arr)):\n",
    "        for j in range(len(arr)):\n",
    "            if arr_bools[i][j] and not np.ma.is_masked(arr[i][j]):\n",
    "                lst.append(arr[i][j])\n",
    "    return np.array(lst)"
   ]
  },
  {
   "cell_type": "code",
   "execution_count": null,
   "metadata": {},
   "outputs": [],
   "source": [
    "def get_mean_20th(arr):\n",
    "    \"\"\"Calculate the mean of the top 20% of values in an array\n",
    "\n",
    "    Parameters:\n",
    "    arr - numpy array containing floats\n",
    "\n",
    "    Returns:\n",
    "    Mean of the top 20% of values in an array\n",
    "    \"\"\"    \n",
    "    num_20 = round(len(arr)*0.2)\n",
    "    arr_20 = arr[np.argsort(arr)[-num_20:]]\n",
    "    \n",
    "    return np.mean(arr_20)"
   ]
  },
  {
   "cell_type": "code",
   "execution_count": null,
   "metadata": {},
   "outputs": [],
   "source": [
    "def get_ew_val(ew, arr_bools):\n",
    "    \"\"\"Function to calculate the mean of the top 20% of the ews for\n",
    "    a specific subset of the spaxels\n",
    "\n",
    "    Parameters:\n",
    "    arr - Data array of ews\n",
    "    arr_bools - Corresponding array containing bools which specify whether\n",
    "                each spaxel is a part of the subset of ews being calculated\n",
    "\n",
    "    Returns:\n",
    "    Mean of the top 20% of the subset of ews\n",
    "    \"\"\"\n",
    "    ewhas = get_1d_array(ew, arr_bools)\n",
    "    \n",
    "    return get_mean_20th(ewhas)"
   ]
  },
  {
   "cell_type": "code",
   "execution_count": null,
   "metadata": {},
   "outputs": [],
   "source": [
    "def combine_bool_arr(arr_1, arr_2):\n",
    "    \"\"\"Combines data arrays containing booleans according to \"or\" logic\n",
    "\n",
    "    Parameters:\n",
    "    arr_1 - First data array containing bools\n",
    "    arr_2 - Second data array containing bools\n",
    "\n",
    "    Returns:\n",
    "    Returns new array which contains True in each position that either \n",
    "    arr_1 or arr_2 contains True\n",
    "    \"\"\"      \n",
    "    arr_1_copy = arr_1.copy()\n",
    "    \n",
    "    for i in range(len(arr_2)):\n",
    "        for j in range(len(arr_2)):\n",
    "            if arr_2[i][j]:\n",
    "                arr_1_copy.mask[i][j] = False\n",
    "                arr_1_copy[i][j] = True\n",
    "\n",
    "    return arr_1_copy"
   ]
  },
  {
   "cell_type": "code",
   "execution_count": null,
   "metadata": {},
   "outputs": [],
   "source": [
    "def get_sb_val(ha, arr_bools):\n",
    "    \"\"\"Calculates the mean of the top 20% of the surface brightnesses\n",
    "    for a subset of spaxels\n",
    "\n",
    "    Parameters:\n",
    "    arr - Data array of ha emissions\n",
    "    arr_bools - Corresponding array containing bools which specify whether each \n",
    "                spaxel is a part of the subset being used for the calculation\n",
    "\n",
    "    Returns:\n",
    "    Mean of the top 20% of the surface brightnesses for a subset of spaxels\n",
    "    \"\"\"\n",
    "    ha_1d = 9.5214e42*get_1d_array(ha, arr_bools)*1e-17 #flux in erg/s/kpc^2\n",
    "    sb = 4*np.pi*ha_1d/(2.4241e-6**2)\n",
    "    \n",
    "    return np.log10(np.mean(sb))"
   ]
  },
  {
   "cell_type": "code",
   "execution_count": null,
   "metadata": {},
   "outputs": [],
   "source": [
    "def get_d_bpt_i(x_0, y_0):\n",
    "    \"\"\"Calculates d_bpt_i (the distance from the point (x_0, y_0) to the demarcation line)\n",
    "\n",
    "    Parameters:\n",
    "    x_0 - log(sii/ha) value\n",
    "    y_0 - log(oiii/hb) value\n",
    "\n",
    "    Returns:\n",
    "    Distance from the point (x_0, y_0) to the demarcation line\n",
    "    \"\"\"    \n",
    "    a = Symbol('a')\n",
    "    a_val = solve(a**4 + (0.32 - x_0)*a**3  + (0.72*y_0 - 0.936)*a - 0.5184, a)[0]\n",
    "    x_1 = a_val + 0.32\n",
    "    \n",
    "    d2 = (x_1 - x_0)**2 + (0.72/(x_1 - 0.32) + 1.30 - y_0)**2\n",
    "    \n",
    "    return sqrt(d2)"
   ]
  },
  {
   "cell_type": "code",
   "execution_count": null,
   "metadata": {},
   "outputs": [],
   "source": [
    "def get_d_bpt(arr_x_0, arr_y_0, arr_bools):\n",
    "    \"\"\"Calculates d_bpt (mean of top 20% of b_bpt_i values)\n",
    "\n",
    "    Parameters:\n",
    "    arr_x_0 - Data array of log(sii/ha) values\n",
    "    arr_y_0 - Data array of log(oiii/hb) values\n",
    "    arr_bools - Corresponding array containing bools which specify whether each \n",
    "                spaxel is a part of the subset being used for the calculation\n",
    "\n",
    "    Returns:\n",
    "    Mean of top 20% of b_bpt_i values\n",
    "    \"\"\"\n",
    "    d_bpts = []\n",
    "    \n",
    "    for i in range(len(arr_bools)):\n",
    "        for j in range(len(arr_bools)):\n",
    "            if arr_bools[i][j] and not np.ma.is_masked(arr_x_0[i][j]) and not np.ma.is_masked(arr_y_0[i][j]):\n",
    "                d_bpts.append(get_d_bpt_i(arr_x_0[i][j], arr_y_0[i][j]))\n",
    "         \n",
    "    return get_mean_20th(np.array(d_bpts))"
   ]
  },
  {
   "cell_type": "code",
   "execution_count": null,
   "metadata": {},
   "outputs": [],
   "source": [
    "def classify_gal(gal_id):\n",
    "    \"\"\"Uses Wylezalek et al. 2017's optimized criteria to determine whether\n",
    "    a galaxy hosts an AGN (Wylezalek et al. 2017)\n",
    "\n",
    "    Parameters:\n",
    "    gal_id - MaNGA id of the galaxy\n",
    "\n",
    "    Returns:\n",
    "    Function has no return value, however, appends galaxies that\n",
    "    fulfill the criteria to the list of AGNs\n",
    "    \"\"\"    \n",
    "    try:\n",
    "        maps = Maps(mangaid=gal_id)\n",
    "    except:\n",
    "        return None \n",
    "    \n",
    "    if 28 in maps.quality_flag.bits or 29 in maps.quality_flag.bits or 30 in maps.quality_flag.bits:\n",
    "        print('Critical Flag!\\n')\n",
    "        return None\n",
    "    \n",
    "    ha = get_masked(maps, 'emline_gflux_ha_6564') \n",
    "    nii = get_masked(maps, 'emline_gflux_nii_6585')\n",
    "    hb = get_masked(maps, 'emline_gflux_hb_4862')\n",
    "    oiii = oiii = get_masked(maps, 'emline_gflux_oiii_5008')\n",
    "    \n",
    "    sii_6718 = get_masked(maps, 'emline_gflux_sii_6718')\n",
    "    sii_6732 = get_masked(maps, 'emline_gflux_sii_6732')\n",
    "    sii = sii_6718 + sii_6732\n",
    "    \n",
    "    nii_count = nii.count()\n",
    "    sii_count = sii.count()\n",
    "    \n",
    "    log_nii_ha = np.log10(nii/ha)\n",
    "    log_oiii_hb = np.log10(oiii/hb)\n",
    "    log_sii_ha = np.log10((sii_6718 + sii_6732)/ha)\n",
    "    \n",
    "    nii_agn_bools = (0.61/(log_nii_ha - 0.47) + 1.19 < log_oiii_hb) | (log_nii_ha > 0.47)             \n",
    "    nii_agn = get_trues(nii_agn_bools)\n",
    "    \n",
    "    nii_comp_bools = (0.61/(log_nii_ha - 0.47) + 1.19 > log_oiii_hb) & (0.61/(log_nii_ha - 0.05) + 1.3 < log_oiii_hb) & \\\n",
    "                     (log_nii_ha < 0.05)\n",
    "    nii_comp = get_trues(nii_comp_bools)\n",
    "    \n",
    "    sii_agn_bools = ((0.72/(log_sii_ha - 0.32) + 1.30 < log_oiii_hb) | (log_sii_ha > 0.32)) & \\\n",
    "                    (1.89*log_sii_ha + 0.76 < log_oiii_hb)\n",
    "    sii_agn = get_trues(sii_agn_bools)\n",
    "    \n",
    "    sii_liner_bools = ((0.72/(log_sii_ha - 0.32) + 1.30 < log_oiii_hb) | (log_sii_ha > 0.32)) & \\\n",
    "                      (1.89*log_sii_ha + 0.76 > log_oiii_hb)\n",
    "    sii_liner = get_trues(sii_liner_bools)\n",
    "    \n",
    "    f_A_N = (80*nii_agn + 20*nii_comp)/nii_count\n",
    "    f_A_S = 100*sii_agn/sii_count\n",
    "    f_L_S = 100*sii_liner/sii_count\n",
    "    f_AL_S = f_A_N + f_L_S\n",
    "    \n",
    "    ewha = get_masked(maps, 'emline_sew_ha_6564')\n",
    "    \n",
    "    nii_agn_comp_bools = combine_bool_arr(nii_agn_bools, nii_comp_bools)\n",
    "    ewha_A_N = get_ew_val(ewha, nii_agn_comp_bools)\n",
    "    ewha_A_S = get_ew_val(ewha, sii_agn_bools)\n",
    "    ewha_L_S = get_ew_val(ewha, sii_liner_bools)\n",
    "    ewha_AL_S = (ewha_A_S + ewha_L_S)/2\n",
    "    \n",
    "    if f_A_N > 10 and ewha_A_N > 5 and f_AL_S > 15 and ewha_AL_S > 5:\n",
    "        sii_agn_liner_bools = combine_bool_arr(sii_agn_bools, sii_liner_bools)\n",
    "        sb_A_N = get_sb_val(ha, nii_agn_comp_bools)\n",
    "        sb_AL_S = get_sb_val(ha, sii_agn_liner_bools)\n",
    "        \n",
    "        if sb_A_N > 37.5 or sb_AL_S > 37.5:\n",
    "            d_bpt = get_d_bpt(log_sii_ha, log_oiii_hb, sii_agn_liner_bools)\n",
    "            \n",
    "            if d_bpt > 0.3:\n",
    "                agns.append(gal_id)"
   ]
  },
  {
   "cell_type": "code",
   "execution_count": null,
   "metadata": {},
   "outputs": [],
   "source": [
    "q = Query(limit=10000)\n",
    "r = q.run()\n",
    "\n",
    "for i in range(r.totalcount):\n",
    "    tot.append(r.results[i].mangaid)\n",
    "    classify_gal(r.results[i].mangaid)"
   ]
  },
  {
   "cell_type": "code",
   "execution_count": null,
   "metadata": {},
   "outputs": [],
   "source": [
    "print(len(tot))"
   ]
  },
  {
   "cell_type": "code",
   "execution_count": null,
   "metadata": {},
   "outputs": [],
   "source": [
    "print(tot)"
   ]
  },
  {
   "cell_type": "code",
   "execution_count": null,
   "metadata": {},
   "outputs": [],
   "source": [
    "print(len(agns))"
   ]
  },
  {
   "cell_type": "code",
   "execution_count": null,
   "metadata": {},
   "outputs": [],
   "source": [
    "print(agns)"
   ]
  },
  {
   "cell_type": "code",
   "execution_count": null,
   "metadata": {},
   "outputs": [],
   "source": [
    "with open('AGN Wylezalek Optimized MaNGAids.txt', 'w') as f:\n",
    "    for gal_id in agns:\n",
    "        f.write(\"%s\\n\" % gal_id)"
   ]
  }
 ],
 "metadata": {
  "kernelspec": {
   "display_name": "Python 3",
   "language": "python",
   "name": "python3"
  },
  "language_info": {
   "codemirror_mode": {
    "name": "ipython",
    "version": 3
   },
   "file_extension": ".py",
   "mimetype": "text/x-python",
   "name": "python",
   "nbconvert_exporter": "python",
   "pygments_lexer": "ipython3",
   "version": "3.7.3"
  }
 },
 "nbformat": 4,
 "nbformat_minor": 2
}
