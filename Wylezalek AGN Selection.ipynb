{
 "cells": [
  {
   "cell_type": "code",
   "execution_count": null,
   "metadata": {},
   "outputs": [],
   "source": [
    "from marvin.tools.query import Query\n",
    "from marvin.tools.maps import Maps\n",
    "import numpy as np"
   ]
  },
  {
   "cell_type": "code",
   "execution_count": null,
   "metadata": {},
   "outputs": [],
   "source": [
    "tot = [] #All galaxies\n",
    "agns = [] #AGNs"
   ]
  },
  {
   "cell_type": "code",
   "execution_count": null,
   "metadata": {},
   "outputs": [],
   "source": [
    "def get_masked(maps, emline):\n",
    "    \"\"\"Function to get masked data arrays without bad snr spaxels\n",
    "\n",
    "    Parameters:\n",
    "    maps - Marvin Maps object of the galaxy\n",
    "    emline - String of desired quantity (e.g. 'emline_gflux_ha_6564')\n",
    "\n",
    "    Returns:\n",
    "    Data array with masked values if the spaxel has an snr < 5\n",
    "    \"\"\"    \n",
    "    data_array = maps[emline]\n",
    "    data_array_masked = data_array.masked\n",
    "\n",
    "    #Masks all spaxels that don't reach the cutoff SNR\n",
    "    data_array_masked.mask |= maps.bin_snr.value < 5\n",
    "    \n",
    "    return data_array_masked"
   ]
  },
  {
   "cell_type": "code",
   "execution_count": null,
   "metadata": {},
   "outputs": [],
   "source": [
    "def get_trues(arr):\n",
    "    \"\"\"Function to count the number of True bools in a numpy array\n",
    "\n",
    "    Parameters:\n",
    "    arr - numpy array containing boolean values\n",
    "\n",
    "    Returns:\n",
    "    Number of True values in arr\n",
    "    \"\"\"\n",
    "    counter = 0\n",
    "    for elem in arr.compressed():\n",
    "        if elem:\n",
    "            counter += 1\n",
    "    return counter"
   ]
  },
  {
   "cell_type": "code",
   "execution_count": null,
   "metadata": {},
   "outputs": [],
   "source": [
    "def get_ew_val(arr, arr_bools):\n",
    "    \"\"\"Function to calculate the mean of the top 20% of the ews for\n",
    "    a specific subset of the spaxels\n",
    "\n",
    "    Parameters:\n",
    "    arr - Data array of ews\n",
    "    arr_bools - Corresponding array containing bools which specify whether\n",
    "                each spaxel is a part of the subset of ews being calculated\n",
    "\n",
    "    Returns:\n",
    "    Mean of the top 20% of the subset of ews\n",
    "    \"\"\"\n",
    "    ewhas_list = []\n",
    "    for i in range(len(arr)):\n",
    "        for j in range(len(arr)):\n",
    "            if arr_bools[i][j] and not np.ma.is_masked(arr[i][j]):\n",
    "                ewhas_list.append(arr[i][j])\n",
    "                \n",
    "    ewhas = np.array(ewhas_list)\n",
    "    \n",
    "    num_20 = round(len(ewhas)*0.2)\n",
    "    ewhas_20 = ewhas[np.argsort(ewhas)[-num_20:]]\n",
    "    \n",
    "    return np.mean(ewhas_20)"
   ]
  },
  {
   "cell_type": "code",
   "execution_count": null,
   "metadata": {},
   "outputs": [],
   "source": [
    "def combine_bool_arr(arr_1, arr_2):\n",
    "    \"\"\"Combines data arrays containing booleans according to \"or\" logic\n",
    "\n",
    "    Parameters:\n",
    "    arr_1 - First data array containing bools\n",
    "    arr_2 - Second data array containing bools\n",
    "\n",
    "    Returns:\n",
    "    Returns new array which contains True in each position that either \n",
    "    arr_1 or arr_2 contains True\n",
    "    \"\"\"      \n",
    "    arr_1_copy = arr_1.copy()\n",
    "    \n",
    "    for i in range(len(arr_2)):\n",
    "        for j in range(len(arr_2)):\n",
    "            if arr_2[i][j]:\n",
    "                arr_1_copy.mask[i][j] = False\n",
    "                arr_1_copy[i][j] = True\n",
    "\n",
    "    return arr_1_copy"
   ]
  },
  {
   "cell_type": "code",
   "execution_count": null,
   "metadata": {},
   "outputs": [],
   "source": [
    "def classify_gal(gal_id):\n",
    "    \"\"\"Uses fraction of spaxels considered AGN, comp., LINER, etc. as well as\n",
    "    the mean of the top 20% of the ews for these spaxels to determine whether\n",
    "    a galaxy hosts an AGN (Wylezalek et al. 2017)\n",
    "\n",
    "    Parameters:\n",
    "    gal_id - MaNGA id of the galaxy\n",
    "\n",
    "    Returns:\n",
    "    Function has no return value, however, appends galaxies that\n",
    "    fulfill the criteria to the list of AGNs\n",
    "    \"\"\"    \n",
    "    try:\n",
    "        maps = Maps(mangaid=gal_id) \n",
    "    except:\n",
    "        return None\n",
    "    \n",
    "    if 28 in maps.quality_flag.bits or 29 in maps.quality_flag.bits or 30 in maps.quality_flag.bits:\n",
    "        print('Critical Flag!\\n')\n",
    "        return None\n",
    "    \n",
    "    ha = get_masked(maps, 'emline_gflux_ha_6564')\n",
    "    nii = get_masked(maps, 'emline_gflux_nii_6585')\n",
    "    hb = get_masked(maps, 'emline_gflux_hb_4862')\n",
    "    oiii = oiii = get_masked(maps, 'emline_gflux_oiii_5008')\n",
    "    \n",
    "    sii_6718 = get_masked(maps, 'emline_gflux_sii_6718')\n",
    "    sii_6732 = get_masked(maps, 'emline_gflux_sii_6732')\n",
    "    sii = sii_6718 + sii_6732\n",
    "    \n",
    "    nii_count = nii.count()\n",
    "    sii_count = sii.count()\n",
    "    \n",
    "    log_nii_ha = np.log10(nii/ha)\n",
    "    log_oiii_hb = np.log10(oiii/hb)\n",
    "    log_sii_ha = np.log10(sii/ha)\n",
    "    \n",
    "    nii_agn_bools = (0.61/(log_nii_ha - 0.47) + 1.19 < log_oiii_hb) | (log_nii_ha > 0.47)\n",
    "    nii_agn = get_trues(nii_agn_bools)\n",
    "    \n",
    "    nii_comp_bools = (0.61/(log_nii_ha - 0.47) + 1.19 > log_oiii_hb) & (0.61/(log_nii_ha - 0.05) + 1.3 < log_oiii_hb) & \\\n",
    "                     (log_nii_ha < 0.05)\n",
    "    nii_comp = get_trues(nii_comp_bools)\n",
    "    \n",
    "    sii_agn_bools = ((0.72/(log_sii_ha - 0.32) + 1.30 < log_oiii_hb) | (log_sii_ha > 0.32)) & \\\n",
    "                    (1.89*log_sii_ha + 0.76 < log_oiii_hb)\n",
    "    sii_agn = get_trues(sii_agn_bools)\n",
    "    \n",
    "    sii_liner_bools = ((0.72/(log_sii_ha - 0.32) + 1.30 < log_oiii_hb) | (log_sii_ha > 0.32)) & \\\n",
    "                      (1.89*log_sii_ha + 0.76 > log_oiii_hb)\n",
    "    sii_liner = get_trues(sii_liner_bools)\n",
    "    \n",
    "    f_A_N = (80*nii_agn + 20*nii_comp)/nii_count\n",
    "    f_A_S = 100*sii_agn/sii_count\n",
    "    f_L_S = 100*sii_liner/sii_count\n",
    "    f_AL_S = f_A_N + f_L_S\n",
    "    \n",
    "    ewha = get_masked(maps, 'emline_sew_ha_6564')\n",
    "    \n",
    "    nii_agn_comp_bools = combine_bool_arr(nii_agn_bools, nii_comp_bools)\n",
    "    \n",
    "    ewha_A_N = get_ew_val(ewha, nii_agn_comp_bools)\n",
    "    ewha_A_S = get_ew_val(ewha, sii_agn_bools)\n",
    "    ewha_L_S = get_ew_val(ewha, sii_liner_bools)\n",
    "    ewha_AL_S = (ewha_A_S + ewha_L_S)/2\n",
    "    \n",
    "    if (f_A_N > 15 and ewha_A_N > 5) or (f_AL_S > 15 and ewha_AL_S > 5):\n",
    "        agns.append(gal_id)"
   ]
  },
  {
   "cell_type": "code",
   "execution_count": null,
   "metadata": {
    "scrolled": true
   },
   "outputs": [],
   "source": [
    "q = Query(limit=10000)\n",
    "r = q.run()\n",
    "\n",
    "for i in range(r.totalcount):\n",
    "    tot.append(r.results[i].mangaid)\n",
    "    classify_gal(r.results[i].mangaid)"
   ]
  },
  {
   "cell_type": "code",
   "execution_count": null,
   "metadata": {},
   "outputs": [],
   "source": [
    "print(len(tot))"
   ]
  },
  {
   "cell_type": "code",
   "execution_count": null,
   "metadata": {},
   "outputs": [],
   "source": [
    "print(tot)"
   ]
  },
  {
   "cell_type": "code",
   "execution_count": null,
   "metadata": {},
   "outputs": [],
   "source": [
    "print(len(agns))"
   ]
  },
  {
   "cell_type": "code",
   "execution_count": null,
   "metadata": {},
   "outputs": [],
   "source": [
    "print(agns)"
   ]
  },
  {
   "cell_type": "code",
   "execution_count": null,
   "metadata": {},
   "outputs": [],
   "source": [
    "with open('AGN Wylezalek MaNGAids.txt', 'w') as f:\n",
    "    for gal_id in agns:\n",
    "        f.write(\"%s\\n\" % gal_id)"
   ]
  }
 ],
 "metadata": {
  "kernelspec": {
   "display_name": "Python 3",
   "language": "python",
   "name": "python3"
  },
  "language_info": {
   "codemirror_mode": {
    "name": "ipython",
    "version": 3
   },
   "file_extension": ".py",
   "mimetype": "text/x-python",
   "name": "python",
   "nbconvert_exporter": "python",
   "pygments_lexer": "ipython3",
   "version": "3.7.3"
  }
 },
 "nbformat": 4,
 "nbformat_minor": 2
}
