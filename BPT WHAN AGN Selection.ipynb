{
 "cells": [
  {
   "cell_type": "code",
   "execution_count": null,
   "metadata": {},
   "outputs": [],
   "source": [
    "from marvin.tools.query import Query\n",
    "from marvin.tools.maps import Maps\n",
    "import numpy as np"
   ]
  },
  {
   "cell_type": "code",
   "execution_count": null,
   "metadata": {},
   "outputs": [],
   "source": [
    "tot = [] #All galaxies\n",
    "agns = [] #AGNs"
   ]
  },
  {
   "cell_type": "code",
   "execution_count": null,
   "metadata": {},
   "outputs": [],
   "source": [
    "def classify_gal(gal_id):\n",
    "    \"\"\"Uses BPT and WHAN criteria on the center spaxel to determine\n",
    "    whether or not the galaxy hosts an AGN\n",
    "\n",
    "    Parameters:\n",
    "    gal_id - MaNGA id of the galaxy\n",
    "\n",
    "    Returns:\n",
    "    Function has no return value, however, appends galaxies that\n",
    "    fulfill the criteria to the list of AGNs\n",
    "    \"\"\"\n",
    "    maps = Maps(mangaid=gal_id) \n",
    "    center = int(len(maps.emline_gflux_ha_6564)/2)\n",
    "    \n",
    "    ha = maps.emline_gflux_ha_6564[center][center]\n",
    "    nii = maps.emline_gflux_nii_6585[center][center]\n",
    "    hb = maps.emline_gflux_hb_4862[center][center]\n",
    "    oiii = maps.emline_gflux_oiii_5008[center][center]\n",
    "    oi = maps.emline_gflux_oi_6302[center][center]\n",
    "    \n",
    "    sii_6718 = maps.emline_gflux_sii_6718[center][center]\n",
    "    sii_6732 = maps.emline_gflux_sii_6732[center][center]\n",
    "    \n",
    "    log_nii_ha = np.log10(nii.value/ha.value)\n",
    "    log_oiii_hb = np.log10(oiii.value/hb.value)\n",
    "    log_sii_ha = np.log10((sii_6718.value + sii_6732.value)/ha.value)\n",
    "    log_oi_ha = np.log10(oi.value/ha.value)\n",
    "    \n",
    "    bpt_crit_1 = (0.61/(log_nii_ha - 0.47) + 1.19 < log_oiii_hb)\n",
    "    bpt_crit_2 = (0.72/(log_sii_ha - 0.32) + 1.30 < log_oiii_hb)\n",
    "    bpt_crit_3 = (0.73/(log_oi_ha + 0.59) + 1.33 < log_oiii_hb)\n",
    "    \n",
    "    if bpt_crit_1 and bpt_crit_2 and bpt_crit_3:\n",
    "        \n",
    "        ewha = maps.emline_sew_ha_6564[center][center].value\n",
    "        ewnii = maps.emline_sew_nii_6585[center][center].value\n",
    "        \n",
    "        if log_nii_ha > -0.4 and ewha > 3:\n",
    "            agns.append(gal_id)\n",
    "    "
   ]
  },
  {
   "cell_type": "code",
   "execution_count": null,
   "metadata": {
    "scrolled": true
   },
   "outputs": [],
   "source": [
    "q = Query(limit=10000)\n",
    "r = q.run()\n",
    "\n",
    "for i in range(r.totalcount):\n",
    "    tot.append(r.results[i].mangaid)\n",
    "    classify_gal(r.results[i].mangaid)"
   ]
  },
  {
   "cell_type": "code",
   "execution_count": null,
   "metadata": {},
   "outputs": [],
   "source": [
    "print(len(tot))"
   ]
  },
  {
   "cell_type": "code",
   "execution_count": null,
   "metadata": {},
   "outputs": [],
   "source": [
    "print(tot)"
   ]
  },
  {
   "cell_type": "code",
   "execution_count": null,
   "metadata": {},
   "outputs": [],
   "source": [
    "print(len(agns))"
   ]
  },
  {
   "cell_type": "code",
   "execution_count": null,
   "metadata": {
    "scrolled": true
   },
   "outputs": [],
   "source": [
    "print(agns)"
   ]
  },
  {
   "cell_type": "code",
   "execution_count": null,
   "metadata": {},
   "outputs": [],
   "source": [
    "with open('AGN MaNGAids.txt', 'w') as f:\n",
    "    for gal_id in agns:\n",
    "        f.write(\"%s\\n\" % gal_id)"
   ]
  }
 ],
 "metadata": {
  "kernelspec": {
   "display_name": "Python 3",
   "language": "python",
   "name": "python3"
  },
  "language_info": {
   "codemirror_mode": {
    "name": "ipython",
    "version": 3
   },
   "file_extension": ".py",
   "mimetype": "text/x-python",
   "name": "python",
   "nbconvert_exporter": "python",
   "pygments_lexer": "ipython3",
   "version": "3.7.3"
  }
 },
 "nbformat": 4,
 "nbformat_minor": 2
}
